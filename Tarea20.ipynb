{
 "cells": [
  {
   "cell_type": "markdown",
   "metadata": {},
   "source": [
    "# Tarea 20"
   ]
  },
  {
   "cell_type": "markdown",
   "metadata": {},
   "source": [
    "__Ejercicio 1 (Jueves 9 de Noviembre): Crear una rutina que construya $A$ y $\\vec b$ para este sistema. Resuelvalo utilizando la función inv y grafique $\\vec f$ utilizando la funcion pcolormesh. Recuerde que aqui $\\vec f$ es un vector, para volverlo de nuevo una matriz con entradas $f_{i,j}$ pueden usar la función reshape.__"
   ]
  },
  {
   "cell_type": "markdown",
   "metadata": {},
   "source": [
    "Como vimos en clase, la matriz A que satisface el sistema $A \\vec f +\\vec b= \\vec 0$ como:\n",
    "$$\n",
    "\\left(\n",
    "\\begin{array}{ccccccccccccccc}\n",
    " -4 & 1 & 0 & 0 & 0 & 1 & 0 & 0 & 0 & 0 & 0 & 0 & 0 & 0 & 0 \\\\\n",
    "1 & -4 & 1 & 0 & 0 & 0 & 1 & 0 & 0 & 0 & 0 & 0 & 0 & 0 & 0  \\\\\n",
    "0 & 1 & -4 & 1 & 0 & 0 & 0 & 1 & 0 & 0 & 0 & 0 & 0 & 0 & 0  \\\\\n",
    "0 & 0 & 1 & -4 & 1 & 0 & 0 & 0 & 1 & 0 & 0 & 0 & 0 & 0 & 0 \\\\\n",
    "0 & 0 & 0 & 1 & -4 & 1 & 0 & 0 & 0 & 1 & 0 & 0 & 0 & 0 & 0  \\\\\n",
    "1 & 0 & 0 & 0 & 1 & -4 & 1 & 0 & 0 & 0 & 1 & 0 & 0 & 0 & 0  \\\\\n",
    "0 & 1 & 0 & 0 & 0 & 1 & -4 & 1 & 0 & 0 & 0 & 1 & 0 & 0 & 0  \\\\\n",
    "0 & 0 & 1 & 0 & 0 & 0 & 1 & -4 & 1 & 0 & 0 & 0 & 1 & 0 & 0 \\\\\n",
    "0 & 0 & 0 & 1 & 0 & 0 & 0 & 1 & -4 & 1 & 0 & 0 & 0 & 1 & 0  \\\\\n",
    "0 & 0 & 0 & 0 & 1 & 0 & 0 & 0 & 1 & -4 & 1 & 0 & 0 & 0 & 1 \\\\\n",
    "0 & 0 & 0 & 0 & 0 & 1 & 0 & 0 & 0 & 1 & -4 & 1 & 0 & 0 & 0 \\\\\n",
    "0 & 0 & 0 & 0 & 0 & 0 & 1 & 0 & 0 & 0 & 1 & -4 & 1 & 0 & 0 \\\\\n",
    "0 & 0 & 0 & 0 & 0 & 0 & 0 & 1 & 0 & 0 & 0 & 1 & -4 & 1 & 0  \\\\\n",
    "0 & 0 & 0 & 0 & 0 & 0 & 0 & 0 & 1 & 0 & 0 & 0 & 1 & -4 & 1  \\\\\n",
    "0 & 0 & 0 & 0 & 0 & 0 & 0 & 0 & 0 & 1 & 0 & 0 & 0 & 1 & -4 \\\\\n",
    "\\end{array}\n",
    "\\right)\n",
    "$$"
   ]
  },
  {
   "cell_type": "markdown",
   "metadata": {},
   "source": [
    "Donde el vector $\\vec b$ es $\n",
    "(0.,0.,0.,0.,70.7107,0.,0.,0.,0.,100.,0.,0.,0.,0.,70.7107)^T.\n",
    "$\n",
    "y asi, la solución del sistema es $\\vec f=-A^{-1}\\vec b$."
   ]
  },
  {
   "cell_type": "markdown",
   "metadata": {},
   "source": [
    "Escribiendo el vector b y la matriz A como;"
   ]
  },
  {
   "cell_type": "code",
   "execution_count": 33,
   "metadata": {},
   "outputs": [],
   "source": [
    "using PyPlot"
   ]
  },
  {
   "cell_type": "code",
   "execution_count": 30,
   "metadata": {},
   "outputs": [],
   "source": [
    "using SymPy\n"
   ]
  },
  {
   "cell_type": "code",
   "execution_count": 13,
   "metadata": {},
   "outputs": [],
   "source": [
    "b = zeros(15) #ceros del vector b\n",
    "b[5] = 70.7107 #entradas diferentes de cero\n",
    "b[10] = 100\n",
    "b[15] = 70.7107\n",
    "b;"
   ]
  },
  {
   "cell_type": "code",
   "execution_count": 17,
   "metadata": {},
   "outputs": [
    {
     "data": {
      "text/plain": [
       "15×15 Array{Float64,2}:\n",
       " -4.0   1.0   0.0   0.0   0.0   1.0  …   0.0   0.0   0.0   0.0   0.0   0.0\n",
       "  1.0  -4.0   1.0   0.0   0.0   0.0      0.0   0.0   0.0   0.0   0.0   0.0\n",
       "  0.0   1.0  -4.0   1.0   0.0   0.0      0.0   0.0   0.0   0.0   0.0   0.0\n",
       "  0.0   0.0   1.0  -4.0   1.0   0.0      0.0   0.0   0.0   0.0   0.0   0.0\n",
       "  0.0   0.0   0.0   1.0  -4.0   0.0      1.0   0.0   0.0   0.0   0.0   0.0\n",
       "  1.0   0.0   0.0   0.0   0.0  -4.0  …   0.0   1.0   0.0   0.0   0.0   0.0\n",
       "  0.0   1.0   0.0   0.0   0.0   1.0      0.0   0.0   1.0   0.0   0.0   0.0\n",
       "  0.0   0.0   1.0   0.0   0.0   0.0      0.0   0.0   0.0   1.0   0.0   0.0\n",
       "  0.0   0.0   0.0   1.0   0.0   0.0      1.0   0.0   0.0   0.0   1.0   0.0\n",
       "  0.0   0.0   0.0   0.0   1.0   0.0     -4.0   0.0   0.0   0.0   0.0   1.0\n",
       "  0.0   0.0   0.0   0.0   0.0   1.0  …   0.0  -4.0   1.0   0.0   0.0   0.0\n",
       "  0.0   0.0   0.0   0.0   0.0   0.0      0.0   1.0  -4.0   1.0   0.0   0.0\n",
       "  0.0   0.0   0.0   0.0   0.0   0.0      0.0   0.0   1.0  -4.0   1.0   0.0\n",
       "  0.0   0.0   0.0   0.0   0.0   0.0      0.0   0.0   0.0   1.0  -4.0   1.0\n",
       "  0.0   0.0   0.0   0.0   0.0   0.0      1.0   0.0   0.0   0.0   1.0  -4.0"
      ]
     },
     "execution_count": 17,
     "metadata": {},
     "output_type": "execute_result"
    }
   ],
   "source": [
    "A=zeros(15,15)  #Sea la matriz con entradas cero\n",
    "for i in 1:15    #Definamos la dimensiones dentro de A\n",
    "    for j in 1:15 #Los valores distintos de cero\n",
    "        if i==j \n",
    "            A[i,j]=-4\n",
    "        elseif i+1==j\n",
    "            A[j,i]=A[i,j]=1\n",
    "        elseif i+5==j\n",
    "            A[j,i]=A[i,j]=1\n",
    "        end\n",
    "    end\n",
    "end\n",
    "A[6,5]=A[5,6]=0 #los otros elementos que nos faltan definir que sean cero\n",
    "A[11,10]=A[10,11]=0\n",
    "A"
   ]
  },
  {
   "cell_type": "code",
   "execution_count": 19,
   "metadata": {},
   "outputs": [
    {
     "data": {
      "text/plain": [
       "15-element Array{Float64,1}:\n",
       "  1.30459\n",
       "  3.37339\n",
       "  7.41827\n",
       " 15.8087 \n",
       " 33.4596 \n",
       "  1.84497\n",
       "  4.77069\n",
       " 10.491  \n",
       " 22.3568 \n",
       " 47.319  \n",
       "  1.30459\n",
       "  3.37339\n",
       "  7.41827\n",
       " 15.8087 \n",
       " 33.4596 "
      ]
     },
     "execution_count": 19,
     "metadata": {},
     "output_type": "execute_result"
    }
   ],
   "source": [
    "#Veamos la solución del sistema, como\n",
    "f = -inv(A)*b"
   ]
  },
  {
   "cell_type": "markdown",
   "metadata": {},
   "source": [
    "Escribiendo la matriz F con dimensión de 3x3, usando el comando _respace_\n"
   ]
  },
  {
   "cell_type": "code",
   "execution_count": 22,
   "metadata": {},
   "outputs": [
    {
     "data": {
      "image/png": "[encoded data removed]",
      "text/plain": [
       "PyPlot.Figure(PyObject <matplotlib.figure.Figure object at 0x7f685fad9750>)"
      ]
     },
     "metadata": {},
     "output_type": "display_data"
    },
    {
     "data": {
      "text/plain": [
       "PyObject <matplotlib.collections.QuadMesh object at 0x7f685fa2efd0>"
      ]
     },
     "execution_count": 22,
     "metadata": {},
     "output_type": "execute_result"
    }
   ],
   "source": [
    "F=reshape(f,(5,3))\n",
    "pcolormesh(F)\n"
   ]
  },
  {
   "cell_type": "markdown",
   "metadata": {},
   "source": [
    "__Ejercicio 2 (Tarea 20, Martes 14 de Noviembre): Resolver ecuación de Poisson unidimensional con $\\rho (x)=\\cos(x)$, en el dominio $[0,2 \\pi]$, utilizando una malla con 12 puntos. Aquí nuevamente hay 10 incognitas, sin embargo note que para el método es mas conveniente definir $\\vec f$ incluyendo las condiciones de frontera.__"
   ]
  },
  {
   "cell_type": "markdown",
   "metadata": {},
   "source": [
    "Para representar la ecuación de Poisson 1D, usemos la forma discreta del operador  $$\\nabla^2=\\frac{f_{i+1,j}+f_{i-1,j}-2f_{i,j}}{h_x^2}+\\frac{f_{i,j+1}+f_{i,j-1}-2f_{i,j}}{h_y^2}=0\n",
    "$$, de manera mas compacta si $h=h_x=h_y$ y entonces $$\\nabla^2=f_{i+1,j}+f_{i-1,j}+f_{i,j+1}+f_{i,j-1}-4f_{i,j}$$\n"
   ]
  },
  {
   "cell_type": "markdown",
   "metadata": {},
   "source": [
    "De manera discreta,De manera discreta tendrémos que el vector f\n",
    "$$f_{i+1}+f_{i-1}-2f_i-h_x\\rho_i=0$$\n",
    "para la matriz con 12 puntos, entonces $h=\\frac{2\\pi}{11}$"
   ]
  },
  {
   "cell_type": "code",
   "execution_count": 47,
   "metadata": {},
   "outputs": [],
   "source": [
    "#Para matriz en general, la malla considerando el ejercicio anterior;\n",
    "f=[0 70.7107 100.0 70.7107  0  ; 0 Sym(\"f_1\") Sym(\"f_5\") Sym(\"f_9\") 0  ; 0 Sym(\"f_2\") Sym(\"f_6\") Sym(\"f_10\") 0;0 Sym(\"f_3\") Sym(\"f_7\") Sym(\"f_11\") 0 ;0 Sym(\"f_4\") Sym(\"f_8\") Sym(\"f_12\") 0 ;0 0 0 0 0];"
   ]
  },
  {
   "cell_type": "code",
   "execution_count": 37,
   "metadata": {},
   "outputs": [
    {
     "name": "stderr",
     "output_type": "stream",
     "text": [
      "WARNING: Method definition phi(Any, Any, Any) in module Main at In[36]:8 overwritten at In[37]:8.\n"
     ]
    },
    {
     "data": {
      "text/plain": [
       "12-element Array{Any,1}:\n",
       "    -4*f_1 + f_2 + f_5 + 70.7107\n",
       "         f_1 - 4*f_2 + f_3 + f_6\n",
       "         f_2 - 4*f_3 + f_4 + f_7\n",
       "               f_3 - 4*f_4 + f_8\n",
       " f_1 - 4*f_5 + f_6 + f_9 + 100.0\n",
       "  f_10 + f_2 + f_5 - 4*f_6 + f_7\n",
       "  f_11 + f_3 + f_6 - 4*f_7 + f_8\n",
       "        f_12 + f_4 + f_7 - 4*f_8\n",
       "    f_10 + f_5 - 4*f_9 + 70.7107\n",
       "      -4*f_10 + f_11 + f_6 + f_9\n",
       "      f_10 - 4*f_11 + f_12 + f_7\n",
       "             f_11 - 4*f_12 + f_8"
      ]
     },
     "execution_count": 37,
     "metadata": {},
     "output_type": "execute_result"
    }
   ],
   "source": [
    "#obtengamos el sistema de ecuaciones bajo los ciertos parametros\n",
    "Mvar=[]\n",
    "M=[]\n",
    "K=[]\n",
    "b=[]\n",
    "f_1,f_2,f_3,f_4,f_5,f_6,f_7,f_8,f_9,f_10,f_11,f_12=Sym(\"f_1,f_2,f_3,f_4,f_5,f_6,f_7,f_8,f_9,f_10,f_11,f_12\")\n",
    "function phi(i,j,n) #n renglones\n",
    "k=i+n*(j-1)\n",
    "end    \n",
    "for i in 2:5\n",
    "        for j in 2:4\n",
    "            \n",
    "        push!(K,phi(i,j,6))\n",
    "        end\n",
    "    end                  #k= i,j \n",
    "    \n",
    "for k in sort(K)                         # conjuento de sistema de ecuaciones\n",
    "    d=f[k+6]+f[k+1]-4f[k]+f[k-1]+f[k-6]\n",
    "     push!(Mvar,d)\n",
    "end\n",
    "for i in 1:12                         \n",
    "    bb=Mvar[i](f_1=>0,f_2=>0,f_3=>0,f_4=>0,f_5=>0,f_6=>0,f_7=>0,f_8=>0,f_9=>0,f_10=>0,f_11=>0,f_12=>0)\n",
    "     push!(b,bb)\n",
    "end\n",
    "Mvar"
   ]
  },
  {
   "cell_type": "code",
   "execution_count": 39,
   "metadata": {},
   "outputs": [
    {
     "name": "stderr",
     "output_type": "stream",
     "text": [
      "WARNING: Method definition Jacobiano(Any, Any, Any, Any) in module Main at In[38]:3 overwritten at In[39]:3.\n"
     ]
    },
    {
     "data": {
      "text/plain": [
       "Jacobiano (generic function with 1 method)"
      ]
     },
     "execution_count": 39,
     "metadata": {},
     "output_type": "execute_result"
    }
   ],
   "source": [
    "#definimos la funcion Jacobiano \n",
    "function Jacobiano(f,var,n,m)\n",
    "J=zeros(n,m)\n",
    "    for i in 1:n\n",
    "        for j in 1:m\n",
    "        J[i,j]=diff(f[i],var[j])\n",
    "        end\n",
    "    end\n",
    "    J\n",
    "end"
   ]
  },
  {
   "cell_type": "code",
   "execution_count": 46,
   "metadata": {},
   "outputs": [
    {
     "data": {
      "text/plain": [
       "10-element Array{Any,1}:\n",
       "       -2*f_1 + f_2 - 0.480522894281618\n",
       "  f_1 - 2*f_2 + f_3 - 0.237284500552297\n",
       "  f_2 - 2*f_3 + f_4 + 0.081290045530213\n",
       "  f_3 - 2*f_4 + f_5 + 0.374055576524896\n",
       "  f_4 - 2*f_5 + f_6 + 0.548061104923333\n",
       "  f_5 - 2*f_6 + f_7 + 0.548061104923333\n",
       "  f_6 - 2*f_7 + f_8 + 0.374055576524896\n",
       " f_7 - 2*f_8 + f_9 + 0.0812900455302132\n",
       " f_10 + f_8 - 2*f_9 - 0.237284500552297\n",
       "      -2*f_10 + f_9 - 0.480522894281618"
      ]
     },
     "execution_count": 46,
     "metadata": {},
     "output_type": "execute_result"
    }
   ],
   "source": [
    "f=[0 f_1 f_2 f_3 f_4 f_5 f_6 f_7 f_8 f_9 f_10 0];\n",
    "h=2*pi/11\n",
    "malla=linspace(0,2pi,12)\n",
    "PM=[]\n",
    "b=[]\n",
    "for i in 2:11\n",
    "    r=f[i+1]+f[i-1]-2f[i]-h*cos(malla[i])\n",
    "    push!(PM,r)\n",
    "end\n",
    "\n",
    "for i in 1:10\n",
    "    bP=PM[i](f_1=>0,f_2=>0,f_3=>0,f_4=>0,f_5=>0,f_6=>0,f_7=>0,f_8=>0,f_9=>0,f_10=>0)\n",
    "    push!(b,bP)\n",
    "end\n",
    "PM"
   ]
  },
  {
   "cell_type": "code",
   "execution_count": 49,
   "metadata": {},
   "outputs": [
    {
     "data": {
      "text/plain": [
       "10×10 Array{Float64,2}:\n",
       " -2.0   1.0   0.0   0.0   0.0   0.0   0.0   0.0   0.0   0.0\n",
       "  1.0  -2.0   1.0   0.0   0.0   0.0   0.0   0.0   0.0   0.0\n",
       "  0.0   1.0  -2.0   1.0   0.0   0.0   0.0   0.0   0.0   0.0\n",
       "  0.0   0.0   1.0  -2.0   1.0   0.0   0.0   0.0   0.0   0.0\n",
       "  0.0   0.0   0.0   1.0  -2.0   1.0   0.0   0.0   0.0   0.0\n",
       "  0.0   0.0   0.0   0.0   1.0  -2.0   1.0   0.0   0.0   0.0\n",
       "  0.0   0.0   0.0   0.0   0.0   1.0  -2.0   1.0   0.0   0.0\n",
       "  0.0   0.0   0.0   0.0   0.0   0.0   1.0  -2.0   1.0   0.0\n",
       "  0.0   0.0   0.0   0.0   0.0   0.0   0.0   1.0  -2.0   1.0\n",
       "  0.0   0.0   0.0   0.0   0.0   0.0   0.0   0.0   1.0  -2.0"
      ]
     },
     "execution_count": 49,
     "metadata": {},
     "output_type": "execute_result"
    }
   ],
   "source": [
    "#de esta manera obtengamos una nueva matriz A\n",
    "varP=[f_1,f_2,f_3,f_4,f_5,f_6,f_7,f_8,f_9,f_10]\n",
    "A=Jacobiano(PM,varP,10,10)"
   ]
  },
  {
   "cell_type": "code",
   "execution_count": 50,
   "metadata": {},
   "outputs": [
    {
     "data": {
      "text/plain": [
       "10-element Array{Any,1}:\n",
       " -0.480522894281618\n",
       " -0.237284500552297\n",
       " 0.0812900455302130\n",
       "  0.374055576524896\n",
       "  0.548061104923333\n",
       "  0.548061104923333\n",
       "  0.374055576524896\n",
       " 0.0812900455302132\n",
       " -0.237284500552297\n",
       " -0.480522894281618"
      ]
     },
     "execution_count": 50,
     "metadata": {},
     "output_type": "execute_result"
    }
   ],
   "source": [
    "b"
   ]
  },
  {
   "cell_type": "code",
   "execution_count": 54,
   "metadata": {},
   "outputs": [
    {
     "data": {
      "image/png": "[encoded data removed]",
      "text/plain": [
       "PyPlot.Figure(PyObject <matplotlib.figure.Figure object at 0x7f685fb57510>)"
      ]
     },
     "metadata": {},
     "output_type": "display_data"
    },
    {
     "data": {
      "text/plain": [
       "PyObject <matplotlib.collections.QuadMesh object at 0x7f685e72e090>"
      ]
     },
     "execution_count": 54,
     "metadata": {},
     "output_type": "execute_result"
    }
   ],
   "source": [
    "Ainv=inv(A);\n",
    "Sol=Float64.(-Ainv*b);\n",
    "SolPoisson=reshape(Sol,(1,10))\n",
    "P=zeros(3,10)\n",
    "P[1,:]=SolPoisson\n",
    "pcolormesh(P)"
   ]
  },
  {
   "cell_type": "markdown",
   "metadata": {},
   "source": [
    "__Ejercicio 3 (Subir mínimo un avance el Martes 14 de Noviembre, dentro de la Tarea 20): Resolver ecuación de calor en una dimensión, en el dominio $[0,1]$, con $f(0)=10$, $f(1)=0$, en una malla con 12 puntos. Aqui obviamente habrá 10 incognitas: $f_1, \\dots, f_{10}$. La condición inicial que deberán usar es $\\vec f^{[0]}=(5,4,3,2,1,3,5,7,7,8)^{\\text{T}}$.__"
   ]
  },
  {
   "cell_type": "markdown",
   "metadata": {},
   "source": [
    "Del mismo modo , podemos dicretar las compontentes del vector f $$f_{i+1}+f_{i-1}-2f_i-h\\frac{df_i}{dt}=0$$"
   ]
  },
  {
   "cell_type": "code",
   "execution_count": 56,
   "metadata": {},
   "outputs": [],
   "source": [
    "h=1/11\n",
    "malla=linspace(0,1,12)\n",
    "PM=[]\n",
    "b=[]\n",
    "df_1,df_2,df_3,df_4,df_5,df_6,df_7,df_8,df_9,df_10=Sym(\"df_1,df_2,df_3,df_4,df_5,df_6,df_7,df_8,df_9,df_10\")\n",
    "#df=[df_1 df_2 df_3 df_4 df_5 df_6 df_7 df_8 df_9 df_10]\n",
    "f=[0 f_1 f_2 f_3 f_4 f_5 f_6 f_7 f_8 f_9 f_10 0]\n",
    "\n",
    "for i in 2:11\n",
    "    r=(f[i+1]+f[i-1]-2f[i])/h\n",
    "    push!(PM,r)\n",
    "end\n",
    "\n",
    "for i in 1:10\n",
    "    bP=PM[i](f_1=>0,f_2=>0,f_3=>0,f_4=>0,f_5=>0,f_6=>0,f_7=>0,f_8=>0,f_9=>0,f_10=>0)\n",
    "    push!(b,bP)\n",
    "end"
   ]
  },
  {
   "cell_type": "code",
   "execution_count": null,
   "metadata": {},
   "outputs": [],
   "source": []
  }
 ],
 "metadata": {
  "kernelspec": {
   "display_name": "Julia 0.5.2",
   "language": "julia",
   "name": "julia-0.5"
  },
  "language_info": {
   "file_extension": ".jl",
   "mimetype": "application/julia",
   "name": "julia",
   "version": "0.5.2"
  }
 },
 "nbformat": 4,
 "nbformat_minor": 2
}
