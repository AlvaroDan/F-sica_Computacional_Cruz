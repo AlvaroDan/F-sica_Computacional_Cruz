{
 "cells": [
  {
   "cell_type": "markdown",
   "metadata": {},
   "source": [
    "# Ejercicio 4-1."
   ]
  },
  {
   "cell_type": "markdown",
   "metadata": {},
   "source": [
    "Ejercicio 1: Implementar el método de integración del rectángulo. Deberán construir una rutina que reciba una función y el tamaño de la diferencia finita, y devuelva el valor aproximado de la integral. Para hacer esto deberán dividir el intervalo  $\\int ^{b}_{a}f\\left( x\\right) dx\\approx \\left( b-a\\right) f\\left( \\dfrac {a+b}{2}\\right) $\n",
    "\n",
    "Vamos a considerar como deficion a la integral $\\int ^{b}_{a}f\\left( x\\right) =\\lim _{n\\rightarrow \\infty }\\sum ^{n}_{i=1}f\\left( x_{i}\\right) \\Delta x$ donde $\\Delta x=\\dfrac {b-a}{n},x_{i}=a+\\Delta xi$"
   ]
  },
  {
   "cell_type": "code",
   "execution_count": 5,
   "metadata": {
    "collapsed": false
   },
   "outputs": [
    {
     "data": {
      "text/plain": [
       "intnum (generic function with 2 methods)"
      ]
     },
     "execution_count": 5,
     "metadata": {},
     "output_type": "execute_result"
    }
   ],
   "source": [
    "function intnum(f,a,b,tol=2.1^(-20))\n",
    "    n=1\n",
    "    aux=f(a)*(b-a)\n",
    "    sumar=f(b)*(b-a)\n",
    "    while abs(sumar-aux)>tol\n",
    "        aux= sumar\n",
    "        n+=1\n",
    "        trian=(b-a)/n\n",
    "        sumar= f(a)*trian\n",
    "             for i in 1:n-1\n",
    "                 sumar=sumar+ f(a+trian*i)*trian\n",
    "             end\n",
    "    end\n",
    "    println(n, \"iteraciones\")\n",
    "    return sumar\n",
    "end    "
   ]
  },
  {
   "cell_type": "code",
   "execution_count": 6,
   "metadata": {
    "collapsed": false
   },
   "outputs": [
    {
     "name": "stdout",
     "output_type": "stream",
     "text": [
      "1180iteraciones\n"
     ]
    },
    {
     "data": {
      "text/plain": [
       "1.4995762711864404"
      ]
     },
     "execution_count": 6,
     "metadata": {},
     "output_type": "execute_result"
    }
   ],
   "source": [
    "f(x)=x\n",
    "intnum(f,1,2)"
   ]
  },
  {
   "cell_type": "code",
   "execution_count": 7,
   "metadata": {
    "collapsed": false
   },
   "outputs": [
    {
     "name": "stdout",
     "output_type": "stream",
     "text": [
      "4719iteraciones\n"
     ]
    },
    {
     "data": {
      "text/plain": [
       "7.998304725577452"
      ]
     },
     "execution_count": 7,
     "metadata": {},
     "output_type": "execute_result"
    }
   ],
   "source": [
    "f(x)=x\n",
    "intnum(f,0,4)"
   ]
  },
  {
   "cell_type": "markdown",
   "metadata": {},
   "source": [
    "En lugar de utilizar rectangulos para aproximar la integral en un intervalo dado $[a,b]$, podemos utilizar trapecios:\n",
    "$$\\int_a^b f(x)\\,dx \\approx (b-a) \\, \\left(\\frac{f(a) + f(b)}{2}\\right).$$\n",
    "Nótese que el area se calculó simplemente útilizando la fórmula del area para un trapecio.\n",
    "Ejercicio 2: Implementar método del trapecio de la misma forma que el ejercicio anterior."
   ]
  },
  {
   "cell_type": "code",
   "execution_count": 8,
   "metadata": {
    "collapsed": false
   },
   "outputs": [
    {
     "data": {
      "text/plain": [
       "inttrapec (generic function with 1 method)"
      ]
     },
     "execution_count": 8,
     "metadata": {},
     "output_type": "execute_result"
    }
   ],
   "source": [
    "function inttrapec(f,a,b,n) #donde n es el intervalo de la particion\n",
    "    l=(b-a)/n \n",
    "    I=0 \n",
    "    for i in 1:n \n",
    "        c=a+(i*l) \n",
    "        I=I+l*f(c) \n",
    "    end\n",
    "    return I \n",
    "end"
   ]
  },
  {
   "cell_type": "code",
   "execution_count": 9,
   "metadata": {
    "collapsed": false
   },
   "outputs": [
    {
     "data": {
      "text/plain": [
       "1.55"
      ]
     },
     "execution_count": 9,
     "metadata": {},
     "output_type": "execute_result"
    }
   ],
   "source": [
    "f(x)=x\n",
    "inttrapec(f,1,2,10)"
   ]
  },
  {
   "cell_type": "code",
   "execution_count": null,
   "metadata": {
    "collapsed": true
   },
   "outputs": [],
   "source": []
  }
 ],
 "metadata": {
  "kernelspec": {
   "display_name": "Julia 0.6.0",
   "language": "julia",
   "name": "julia-0.6"
  },
  "language_info": {
   "file_extension": ".jl",
   "mimetype": "application/julia",
   "name": "julia",
   "version": "0.6.0"
  }
 },
 "nbformat": 4,
 "nbformat_minor": 2
}
