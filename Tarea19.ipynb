{
 "cells": [
  {
   "cell_type": "markdown",
   "metadata": {},
   "source": [
    "# Formación del sistema de ecuaciones"
   ]
  },
  {
   "cell_type": "markdown",
   "metadata": {},
   "source": [
    "__Ejercicio1: Escriba la forma del operador laplaciano utilizando diferencias finitas simétricas. Es decir, discretice: $\\nabla^2=\\frac{\\partial^2 f}{\\partial x^2}+\\frac{\\partial^2 f}{\\partial y^2}+\\frac{\\partial^2 f}{\\partial z^2}$__"
   ]
  },
  {
   "cell_type": "markdown",
   "metadata": {},
   "source": [
    "Tomando la expresion para 3 componentes $$f(x+h,y,z)\\approx f(x,y,z)+h\\frac {\\partial f(x,y,z)}{\\partial x}+\\frac{{h^2}}{2}\\frac {\\partial^2 f(x,y,z)}{\\partial x^2}$$ y $$f(x-h,y,z)\\approx f(x,y,z)-h\\frac {\\partial f(x,y,z)}{\\partial x}+\\frac{{h^2}}{2}\\frac {\\partial^2 f(x,y,z)}{\\partial x^2}$$\n",
    "Sumando las expresiones anteriores $f(x+h,y,z)+f(x-h,y,z) \\approx f(x,y,z)+h\\frac {\\partial f(x,y,z)}{\\partial x}+\\frac{{h^2}}{2}\\frac {\\partial^2 f(x,y,z)}{\\partial x^2}+f(x,y,z)-h\\frac {\\partial f(x,y,z)}{\\partial x}+\\frac{{h^2}}{2}\\frac {\\partial^2 f(x,y,z)}{\\partial x^2}$\n",
    "$$\\Rightarrow f(x+h,y,z)+f(x-h,y,z) \\approx 2f(x,y,z)+h^2\\frac {\\partial^2 f(x,y,z)}{\\partial x^2}$$\n",
    "$\\Rightarrow$ $$\\frac {\\partial^2 f(x,y,z)}{\\partial x^2} \\approx \\frac{f(x+h,y,z)+f(x-h,y,z)-2f(x,y,z)}{h^2}$$\n",
    "De manera siminar para las otras compontentes y, z tendremos que:\n",
    "$$\\nabla^2f(x,y,z)=\\frac{\\partial^2 f(x,y,z)}{\\partial x^2} + \\frac {\\partial^2 f(x,y,z)}{\\partial y^2}+\\frac{\\partial^2 f(x,y,z)}{\\partial z^2}$$$$\\nabla^2f(x,y,z)\\approx \\frac{f(x+h,y,z)+f(x-h,y,z)-2f(x,y,z)}{h^2} + \\frac{f(x,y+h,z)+f(x,y-h,z)-2f(x,y,z)}{h^2} + \\frac{f(x,y,z+h)+f(x,y,z-h)-2f(x,y,z)}{h^2}$$"
   ]
  },
  {
   "cell_type": "markdown",
   "metadata": {},
   "source": [
    "__Ejercicio condiciones a la frontera de Dirichlet. Discretice la ecuación $$ \\frac{d^2f}{dx^2}=0 $$ en el intervalo $[0,1]$, y aplicando el operador laplaciano discretizado obtenga el sistema de ecuaciones algebraicas lineales correspondientes al problema de Dirichlet: $f(0) = a$ y $f(1) = b$ dividiendo el intervalo $[0,1]$ en $5$ puntos separados por $h$.__"
   ]
  },
  {
   "cell_type": "markdown",
   "metadata": {},
   "source": [
    "Discretizando la ecuación $$ \\frac{d^2f}{dx^2}\\approx \\frac{f(x+h)+f(x-h)-2f(x)}{h^2}=0$$\n",
    "Tenemos que $$f(x)\\approx \\frac{f(x+h)+f(x-h)}{2}$$\n",
    "Tomando el intervalo $[0,1]$ y diviendólo en cinco partes iguales como $i=1,2,3,4,5.$ para $h= \\frac{1}{5}$ tomamos $x_i=ih=i\\frac{1}{5}$ "
   ]
  },
  {
   "cell_type": "markdown",
   "metadata": {},
   "source": [
    "Por lo que tenemos el siguiente sistema de ecuaciones donde $2f(x_i)\\approx f(x_{i+1})+f(x_{i-1})$ :\n",
    "$$\\begin{cases}-2f(x_1)+f(x_{2})+f(x_{0})=0\\\\-2f(x_2)+f(x_{3})+f(x_{1})=0\n",
    "\\\\-2f(x_3)+f(x_{4})+f(x_{2})=0\n",
    "\\\\-2f(x_4)+f(x_{5})+f(x_{3})=0\n",
    "\\\\-2f(x_5)+f(x_{6})+f(x_{4})=0 \\end{cases}$$"
   ]
  },
  {
   "cell_type": "markdown",
   "metadata": {},
   "source": [
    "Usando que para $f(0) = a$ y $f(1) = b$ y sustituyendo h dentro del anterior, se tiene el siguiente nuevo sistema:\n",
    " $$\\begin{cases} -2f(1/5)+f(2/5)+a=0 \n",
    "\\\\-2f(2/5)+f(3/5)+f(1/5)=0 \n",
    "\\\\-2f(3/5)+f(4/5)+f(2/5)=0 \n",
    "\\\\-2f(4/5)+f(1)+f(3/5)=0 \n",
    "\\\\-2b+f(6/5)+f(4/5)=0 \\end{cases}$$"
   ]
  },
  {
   "cell_type": "markdown",
   "metadata": {},
   "source": [
    "__Ejercicio 3 (condiciones a la frontera de Neumann). Hacer lo mismo para condiciones de Neumann, es decir, fijando en los extremos el valor de la primera derivada de la función. Para esto utilice la derivada hacia adeltante en las orillas, es decir, si $f'(0)=a$ y $f'(1)=b$, entonces $(f_1-f_0)/h=a$, etc. No olvide que debe resultar un sistema de ecuación cuya dimensión sea el número de incognitas.\n",
    "Escriba el sistema lineal de ecuaciones que surge, usando $\\LaTeX$ en el notebook de la tarea que sigue.__"
   ]
  },
  {
   "cell_type": "markdown",
   "metadata": {},
   "source": [
    "Del primer sistema de ecuaciones del __Ejercicio 2__, es decir, $$-2f(x_{4})+f(x_{5})+f(x_{3})= 0$$\n",
    "Utilizando las derivadas en las orillas $$f'(x_{1}) = f'(0) = a$$ y $$f'(0)=f'(x_{1})=\\frac{f(x_{1}+h)-f(x_{1})}{h}$$ $$\\Rightarrow\n",
    "\\frac{f(x_{2}) - f(x_{1})}{\\frac{1}{4}} =a$$\n",
    "Por lo que tendremos $$\n",
    "\\frac{f(x_{5}) - f(x_{4})}{\\frac{1}{4}} =b\n",
    "$$\n",
    "Usando las condiciones de Neumman en el segundo sistema de ecuaciones  obtendremos que $$\\begin{cases} f({x_2})-f({x_1})-ah=0\n",
    "\\\\-2f(2/5)+f(3/5)+f(1/5)=0 \n",
    "\\\\-2f(3/5)+f(4/5)+f(2/5)=0 \n",
    "\\\\-2f(4/5)+f(1)+f(3/5)=0 \n",
    "\\\\ f({x_5})-(f{x_4})-bh=0 \\end{cases}$$"
   ]
  },
  {
   "cell_type": "markdown",
   "metadata": {},
   "source": [
    "__Ejercicio 4 (indexación). Julia es más eficiente si se utiliza un único índice para acceder a los elementos de una matriz, además que puede simplificar algunos problemas. Escribe una función $\\phi$ que traduzca un par de índices $i,j$ a un único índice $k$, es decir: $$\\phi: (i,j) \\mapsto k.$$ También encuentren $\\phi^{-1}$. Note que $\\phi$ deberá depender de las dimensiones del arreglo, por lo menos de una de ellas.__"
   ]
  },
  {
   "cell_type": "markdown",
   "metadata": {},
   "source": [
    "Sea una matriz de $n$ renglones y $m$ columnas, y una función $\\phi$ tal que $$\\phi(i,j)=(i-1)m+j=k$$\n",
    "Para obtener la funcion inversa, si suponemos que $i=1$ entonces tendriamos que el mínimo valor posible para $j$ es 1 tambien; mientras que si $i$ tiene su valor máximo igual a $n$, entonces el máximo valor de $j$ debera ser $m$. Entonces $k$ tiene valores entre $k=(i-1)m+1$ y $k=im$. De $k=im$ despejamos $i$ y tendriamos:\n",
    "$$i=\\frac{k}{m}$$\n",
    "Sustituyendo esto en la función $\\phi$ y despejando para $j$ llegamos a: $$j=k-(i-1)m=k-(\\frac{k}{m}-1)m=m$$ Con esto obtendriamos:\n",
    "$$\n",
    "\\phi(i,j)=(i-1)m+j\\\\\n",
    "\\phi^{-1}(k)=(\\frac{k}{m}, m) = \\phi^{-1}(k)=(\\frac{k}{m}, k-(\\frac{k}{m}-1)m)\n",
    "$$"
   ]
  },
  {
   "cell_type": "markdown",
   "metadata": {},
   "source": [
    "Es decir, $$\\phi^{-1}(k)=\\left\\{\\begin{array}{cl}\\left(m,\\dfrac{k}{m}\\right), & m\\mid k\\\\\\left(k-m\\left\\lfloor\\dfrac{k}{m}\\right\\rfloor,1+\\left\\lfloor\\dfrac{k}{m}\\right\\rfloor\\right), & m\\nmid k\\end{array}\\right.$$"
   ]
  },
  {
   "cell_type": "code",
   "execution_count": 3,
   "metadata": {},
   "outputs": [
    {
     "data": {
      "text/plain": [
       "indice (generic function with 1 method)"
      ]
     },
     "execution_count": 3,
     "metadata": {},
     "output_type": "execute_result"
    }
   ],
   "source": [
    "function indice(A,i,j)\n",
    "    \n",
    "    m = size(A)[1] #agregamos las dimensiones de la matriz\n",
    "    n = size(A)[2]\n",
    "    if i > m || j > n\n",
    "        return print(\"Colocar los elementos de i,j \")\n",
    "    end\n",
    "    k = i+m*(j-1) # En el otro caso (cuando se cuenta por filas) es k = n*(i-1)+j\n",
    "    return k\n",
    "    \n",
    "end"
   ]
  },
  {
   "cell_type": "code",
   "execution_count": 5,
   "metadata": {},
   "outputs": [],
   "source": [
    "#ejemplo\n",
    "A=[1  3  3 ;2 3  3; 1 2 3];"
   ]
  },
  {
   "cell_type": "code",
   "execution_count": 6,
   "metadata": {},
   "outputs": [
    {
     "name": "stdout",
     "output_type": "stream",
     "text": [
      "Colocar los elementos de i,j "
     ]
    }
   ],
   "source": [
    "indice(A,2,4)"
   ]
  },
  {
   "cell_type": "code",
   "execution_count": 7,
   "metadata": {},
   "outputs": [
    {
     "data": {
      "text/plain": [
       "5"
      ]
     },
     "execution_count": 7,
     "metadata": {},
     "output_type": "execute_result"
    }
   ],
   "source": [
    "indice(A,2,2)"
   ]
  },
  {
   "cell_type": "code",
   "execution_count": 8,
   "metadata": {},
   "outputs": [
    {
     "data": {
      "text/plain": [
       "indice2 (generic function with 1 method)"
      ]
     },
     "execution_count": 8,
     "metadata": {},
     "output_type": "execute_result"
    }
   ],
   "source": [
    "function indice2(A,k)\n",
    "    m = size(A)[1] #colocamos las dimensiones de la matriz\n",
    "    n = size(A)[2]\n",
    "    mn = m*n\n",
    "    if k > mn #usamos los casos de las dimensiones n y m con respecto a k\n",
    "        return print(\"incoherencia, colocar los elementos i j\")\n",
    "    end\n",
    "    if k % m == 0\n",
    "        i = m\n",
    "        j = floor(Int,k/m)\n",
    "    else\n",
    "        i = k-m*floor(Int,k/m)\n",
    "        j = 1+floor(Int,k/m)\n",
    "    end\n",
    "    return i,j\n",
    "end"
   ]
  },
  {
   "cell_type": "code",
   "execution_count": 10,
   "metadata": {},
   "outputs": [
    {
     "name": "stdout",
     "output_type": "stream",
     "text": [
      "incoherencia, colocar los elementos i j"
     ]
    }
   ],
   "source": [
    "indice2(A,12)"
   ]
  },
  {
   "cell_type": "code",
   "execution_count": 11,
   "metadata": {},
   "outputs": [
    {
     "data": {
      "text/plain": [
       "(3,3)"
      ]
     },
     "execution_count": 11,
     "metadata": {},
     "output_type": "execute_result"
    }
   ],
   "source": [
    "indice2(A,9)"
   ]
  },
  {
   "cell_type": "code",
   "execution_count": 12,
   "metadata": {},
   "outputs": [
    {
     "data": {
      "text/plain": [
       "(2,2)"
      ]
     },
     "execution_count": 12,
     "metadata": {},
     "output_type": "execute_result"
    }
   ],
   "source": [
    "indice2(A,5)"
   ]
  },
  {
   "cell_type": "code",
   "execution_count": 13,
   "metadata": {},
   "outputs": [
    {
     "data": {
      "text/plain": [
       "(1,2)"
      ]
     },
     "execution_count": 13,
     "metadata": {},
     "output_type": "execute_result"
    }
   ],
   "source": [
    "indice2(A,4)"
   ]
  },
  {
   "cell_type": "code",
   "execution_count": 14,
   "metadata": {},
   "outputs": [
    {
     "data": {
      "text/plain": [
       "(2,1)"
      ]
     },
     "execution_count": 14,
     "metadata": {},
     "output_type": "execute_result"
    }
   ],
   "source": [
    "indice2(A,2)"
   ]
  },
  {
   "cell_type": "code",
   "execution_count": null,
   "metadata": {},
   "outputs": [],
   "source": []
  }
 ],
 "metadata": {
  "kernelspec": {
   "display_name": "Julia 0.5.2",
   "language": "julia",
   "name": "julia-0.5"
  },
  "language_info": {
   "file_extension": ".jl",
   "mimetype": "application/julia",
   "name": "julia",
   "version": "0.5.2"
  }
 },
 "nbformat": 4,
 "nbformat_minor": 2
}
