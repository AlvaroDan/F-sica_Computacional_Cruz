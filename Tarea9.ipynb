{
 "cells": [
  {
   "cell_type": "markdown",
   "metadata": {},
   "source": [
    "# Tarea 9 "
   ]
  },
  {
   "cell_type": "markdown",
   "metadata": {},
   "source": [
    "## Diferencias Finitas"
   ]
  },
  {
   "cell_type": "markdown",
   "metadata": {},
   "source": [
    "# Parte 2"
   ]
  },
  {
   "cell_type": "markdown",
   "metadata": {},
   "source": [
    "Ejercicio 2. Utiliza tu función derivadaNumerica para calcular la derivada de la función $\\cos$ en un punto $x_0\\in[0,1)$. Compara tu resultado con el que indica el cálculo exacto. Utiliza valores de $h$ cada vez más pequeños, grafica el comportamiento de la derivada y muestra como converge al valor exacto conforme tomamos $h$'s cada vez más pequeño. Para ello pueden graficar el resultado de la derivada numérica contra $1/h$. Observa el resultado de la aproximación y comenta. ¿El error es del orden de $h$?, para ver esto grafica el error relativo a $f'(x_0)$:"
   ]
  },
  {
   "cell_type": "code",
   "execution_count": 5,
   "metadata": {
    "collapsed": false
   },
   "outputs": [
    {
     "data": {
      "text/plain": [
       "derivada_numerica (generic function with 1 method)"
      ]
     },
     "execution_count": 5,
     "metadata": {},
     "output_type": "execute_result"
    }
   ],
   "source": [
    "function derivada_numerica(f,x,h) #definamos la funcion de la derivada sin limite\n",
    "    df=(f(x+h)-f(x))/h\n",
    "end"
   ]
  },
  {
   "cell_type": "code",
   "execution_count": 12,
   "metadata": {
    "collapsed": false
   },
   "outputs": [
    {
     "data": {
      "text/plain": [
       "-0.049958347219741794"
      ]
     },
     "execution_count": 12,
     "metadata": {},
     "output_type": "execute_result"
    }
   ],
   "source": [
    "f(x)=cos(x)\n",
    "derivada_numerica(f,0,0.1)"
   ]
  },
  {
   "cell_type": "code",
   "execution_count": 7,
   "metadata": {
    "collapsed": false
   },
   "outputs": [
    {
     "data": {
      "text/plain": [
       "-0.0"
      ]
     },
     "execution_count": 7,
     "metadata": {},
     "output_type": "execute_result"
    }
   ],
   "source": [
    "-1*sin(0) #Εsta es la derivada de la funcion original envaluada en 0"
   ]
  },
  {
   "cell_type": "code",
   "execution_count": 8,
   "metadata": {
    "collapsed": false
   },
   "outputs": [
    {
     "name": "stderr",
     "output_type": "stream",
     "text": [
      "\u001b[1m\u001b[36mINFO: \u001b[39m\u001b[22m\u001b[36mPackage PyPlot is already installed\n",
      "\u001b[39m\u001b[1m\u001b[36mINFO: \u001b[39m\u001b[22m\u001b[36mMETADATA is out-of-date — you may not have the latest version of PyPlot\n",
      "\u001b[39m\u001b[1m\u001b[36mINFO: \u001b[39m\u001b[22m\u001b[36mUse `Pkg.update()` to get the latest versions of your packages\n",
      "\u001b[39m"
     ]
    }
   ],
   "source": [
    "Pkg.add(\"PyPlot\") #Instalamos para graficar la convergencia"
   ]
  },
  {
   "cell_type": "code",
   "execution_count": 9,
   "metadata": {
    "collapsed": true
   },
   "outputs": [],
   "source": [
    "using PyPlot"
   ]
  },
  {
   "cell_type": "code",
   "execution_count": 10,
   "metadata": {
    "collapsed": false
   },
   "outputs": [
    {
     "data": {
      "text/plain": [
       "derivada_numerica2 (generic function with 1 method)"
      ]
     },
     "execution_count": 10,
     "metadata": {},
     "output_type": "execute_result"
    }
   ],
   "source": [
    "function derivada_numerica2(f,x)\n",
    "list=zeros(100) #crear una lista que guarde el valor de la funcion derivada\n",
    "    n=1\n",
    "    for i in 1:100\n",
    "        df=(f(x+(1/n))-f(x))*n #para f'\n",
    "              list[i]=df; \n",
    "              n+=1 #aumentando el valor de n en cada iteración,aqui h=1/n\n",
    "           end\n",
    "return list \n",
    "end"
   ]
  },
  {
   "cell_type": "code",
   "execution_count": 11,
   "metadata": {
    "collapsed": false
   },
   "outputs": [
    {
     "data": {
      "text/plain": [
       "100-element Array{Float64,1}:\n",
       " -0.459698  \n",
       " -0.244835  \n",
       " -0.165129  \n",
       " -0.12435   \n",
       " -0.0996671 \n",
       " -0.0831406 \n",
       " -0.0713072 \n",
       " -0.0624187 \n",
       " -0.0554984 \n",
       " -0.0499583 \n",
       " -0.0454232 \n",
       " -0.0416426 \n",
       " -0.0384426 \n",
       "  ⋮         \n",
       " -0.00561792\n",
       " -0.0055555 \n",
       " -0.00549445\n",
       " -0.00543473\n",
       " -0.00537629\n",
       " -0.0053191 \n",
       " -0.00526311\n",
       " -0.00520829\n",
       " -0.00515459\n",
       " -0.005102  \n",
       " -0.00505046\n",
       " -0.00499996"
      ]
     },
     "execution_count": 11,
     "metadata": {},
     "output_type": "execute_result"
    }
   ],
   "source": [
    "list1=derivada_numerica2(f,0)"
   ]
  },
  {
   "cell_type": "code",
   "execution_count": 13,
   "metadata": {
    "collapsed": false
   },
   "outputs": [
    {
     "data": {
      "image/png": "[encoded data removed]",
      "text/plain": [
       "PyPlot.Figure(PyObject <matplotlib.figure.Figure object at 0x7f4c61659150>)"
      ]
     },
     "metadata": {},
     "output_type": "display_data"
    }
   ],
   "source": [
    "a=linspace(-10,100)\n",
    "y=a*0\n",
    "plot(a,y); #El valor de le derivada exacta\n",
    "plot(real(list1)); #las derivadas\n",
    "grid(\"on\");"
   ]
  },
  {
   "cell_type": "markdown",
   "metadata": {},
   "source": [
    "Para determinar el error con $\\epsilon=\\left|\\frac{\\Delta f(x_0,h)/h-f'(x_0)}{f'(x_0)}\\right|,$ en la list:"
   ]
  },
  {
   "cell_type": "code",
   "execution_count": 20,
   "metadata": {
    "collapsed": true
   },
   "outputs": [],
   "source": [
    "using SymPy"
   ]
  },
  {
   "cell_type": "code",
   "execution_count": 21,
   "metadata": {
    "collapsed": false
   },
   "outputs": [
    {
     "data": {
      "text/plain": [
       "error (generic function with 1 method)"
      ]
     },
     "execution_count": 21,
     "metadata": {},
     "output_type": "execute_result"
    }
   ],
   "source": [
    "function error(f,x0,h0)\n",
    "    longitud=length(h0)#Numero de elementos del arreglo h0\n",
    "    d(h)=(g(x0+h)-g(x0))/h #f´\n",
    "    x = Sym(\"x\")\n",
    "    g = f(x) #funcion para calcular su error\n",
    "    dg = diff(g(x)) #Y su derivada\n",
    "    df = lambdify(dg,[x]) \n",
    "    listaerror=[]\n",
    "    for i in 1:longitud # aplicando para cada valor de la list1\n",
    "        epsilon=(d(h0[i])-df(x0))/df(x0) #usando formula del error\n",
    "        push!(listaerror,epsilon) #Guardo el valor de dicha epsilon en mi arreglo\n",
    "    end\n",
    "    return listaerror\n",
    "end"
   ]
  },
  {
   "cell_type": "code",
   "execution_count": 22,
   "metadata": {
    "collapsed": false
   },
   "outputs": [
    {
     "name": "stderr",
     "output_type": "stream",
     "text": [
      "WARNING: Compat.UTF8String is deprecated, use String instead.\n",
      "  likely near In[22]:2\n",
      "WARNING: Compat.UTF8String is deprecated, use String instead.\n",
      "  likely near In[22]:2\n",
      "WARNING: Compat.UTF8String is deprecated, use String instead.\n",
      "  likely near In[22]:2\n",
      "in jprint at /home/juser/.julia/v0.6/SymPy/src/display.jl\n"
     ]
    },
    {
     "data": {
      "text/plain": [
       "100-element Array{Any,1}:\n",
       "   -2.28561313695614\n",
       "   -1.22396925319059\n",
       "  -0.825562069624939\n",
       "  -0.621454757623840\n",
       "  -0.497917086425617\n",
       "  -0.415229509923399\n",
       "  -0.356043331046853\n",
       "  -0.311600549818252\n",
       "  -0.277008811722825\n",
       "  -0.249322686516313\n",
       "  -0.226663612975161\n",
       "  -0.207777297803261\n",
       "  -0.191794443250958\n",
       "                   ⋮\n",
       " -0.0280010841937714\n",
       " -0.0276899112874260\n",
       " -0.0273855783412301\n",
       " -0.0270878622838744\n",
       " -0.0267965496391554\n",
       " -0.0265114360165995\n",
       " -0.0262323256321040\n",
       " -0.0259590308606741\n",
       " -0.0256913718148650\n",
       " -0.0254291759506126\n",
       " -0.0251722776964723\n",
       " -0.0249205181041240"
      ]
     },
     "execution_count": 22,
     "metadata": {},
     "output_type": "execute_result"
    }
   ],
   "source": [
    "f(x)=cos(x)\n",
    "error(f,0.1,list1)"
   ]
  },
  {
   "cell_type": "code",
   "execution_count": 23,
   "metadata": {
    "collapsed": true
   },
   "outputs": [],
   "source": [
    "using PyPlot #Grafiquemos los errores obtenidos"
   ]
  },
  {
   "cell_type": "code",
   "execution_count": 26,
   "metadata": {
    "collapsed": false
   },
   "outputs": [
    {
     "data": {
      "text/plain": [
       "C (generic function with 1 method)"
      ]
     },
     "execution_count": 26,
     "metadata": {},
     "output_type": "execute_result"
    }
   ],
   "source": [
    "C(x)=x*0 #definamos una funcion C coo cero\n"
   ]
  },
  {
   "cell_type": "code",
   "execution_count": 27,
   "metadata": {
    "collapsed": false
   },
   "outputs": [
    {
     "data": {
      "text/plain": [
       "0-element Array{Any,1}"
      ]
     },
     "execution_count": 27,
     "metadata": {},
     "output_type": "execute_result"
    }
   ],
   "source": [
    "zero=[] #Arreglo que guardará tantos ceros \n"
   ]
  },
  {
   "cell_type": "code",
   "execution_count": 29,
   "metadata": {
    "collapsed": false
   },
   "outputs": [
    {
     "data": {
      "text/plain": [
       "100-element Array{Float64,1}:\n",
       " -0.0\n",
       " -0.0\n",
       " -0.0\n",
       " -0.0\n",
       " -0.0\n",
       " -0.0\n",
       " -0.0\n",
       " -0.0\n",
       " -0.0\n",
       " -0.0\n",
       " -0.0\n",
       " -0.0\n",
       " -0.0\n",
       "  ⋮  \n",
       " -0.0\n",
       " -0.0\n",
       " -0.0\n",
       " -0.0\n",
       " -0.0\n",
       " -0.0\n",
       " -0.0\n",
       " -0.0\n",
       " -0.0\n",
       " -0.0\n",
       " -0.0\n",
       " -0.0"
      ]
     },
     "execution_count": 29,
     "metadata": {},
     "output_type": "execute_result"
    }
   ],
   "source": [
    "zero=C(list1)"
   ]
  },
  {
   "cell_type": "markdown",
   "metadata": {},
   "source": [
    "Ejercicio 3. Teniendo en mente la serie de Taylor para $f(x+h)$ ¿existe alguna forma de mejorar el cálculo de la derivada numérica? Comenta.\n",
    "Tip: ¿Que pasa con los términos pares de la serie cuando la calculamos para $f(x-h)$?, ¿Como podemos despejar la derivada exacta de $f$ combinando ambas series?\n",
    "Nota: Entregar en $\\LaTeX$ en el notebook de la tarea."
   ]
  },
  {
   "cell_type": "markdown",
   "metadata": {},
   "source": [
    "Veamos las dos series de taylor para la  $f$ en $h$ y $-h$:\n",
    "$$f(x+h)=\\sum_{k=0}^{\\infty} \\frac{f^{(k)}(x)\\cdot (h)^k}{k!}$$ y $$f(x-h)=\\sum_{k=0}^{\\infty} \\frac{f^{(k)}(x)\\cdot (-h)^k}{k!}$$\n",
    "Obteniendo la diferencia de ambas, \n",
    "$$f(x+h)-f(x-h)=\\sum_{k=0}^{\\infty} \\frac{f^{(k)(x)}}{k!}\\cdot (h^k-(-h)^k)=\\sum_{k=0}^{\\infty} \\frac{f^{(k)}(x)}{k!}\\cdot (h^k+(-1)^{k+1}\\cdot h^k)=\\sum_{k=0}^{\\infty} \\frac{2f^{(2k+1)}(x)\\cdot h^{2k+1}}{(2k+1)!}$$\n",
    "Obtenienteniendo el primer termino de la serie, es decir,  $\\sum_{k=0}^{\\infty} \\frac{2f^{(2k+1)}(x)\\cdot h^{2k+1}}{(2k+1)!} \\approx 2f'(x)h$\n",
    "\n",
    "Por lo que tenemos: $$\\Rightarrow\\ f'(x)\\approx \\frac{f(x+h)-f(x-h)}{2h}$$"
   ]
  },
  {
   "cell_type": "markdown",
   "metadata": {},
   "source": [
    "Pregunta:¿Hay una forma de construir una derivada numérica aún mas exacta sin tener que hacer $h$ arbitrariamente pequeño?, ¿que opinas?"
   ]
  },
  {
   "cell_type": "markdown",
   "metadata": {},
   "source": [
    "Si definimos la derivada numérica simétrica ($f(x+h)-f(x-h)$), esta tendra que aproximarse en dos direcciones y no solo en uno. "
   ]
  },
  {
   "cell_type": "markdown",
   "metadata": {},
   "source": [
    "Ejercicio 4. Implementa la derivada simétrica en Julia como derivada_Simetrica y repite la comparativa que realizaste en el ejercicio 2."
   ]
  },
  {
   "cell_type": "code",
   "execution_count": 32,
   "metadata": {
    "collapsed": false
   },
   "outputs": [
    {
     "data": {
      "text/plain": [
       "derivada_simetrica (generic function with 1 method)"
      ]
     },
     "execution_count": 32,
     "metadata": {},
     "output_type": "execute_result"
    }
   ],
   "source": [
    "function derivada_simetrica(f,x,h) #tomando una funcion f como lo anterior\n",
    "              df=(f(x+h)-f(x-h))/2h #Aplicamos la derivada numerica simetrica\n",
    "        \n",
    "return df\n",
    "end"
   ]
  },
  {
   "cell_type": "code",
   "execution_count": 34,
   "metadata": {
    "collapsed": false
   },
   "outputs": [
    {
     "data": {
      "text/plain": [
       "0.0"
      ]
     },
     "execution_count": 34,
     "metadata": {},
     "output_type": "execute_result"
    }
   ],
   "source": [
    "derivada_simetrica(f,0,0.001) "
   ]
  },
  {
   "cell_type": "code",
   "execution_count": 35,
   "metadata": {
    "collapsed": false
   },
   "outputs": [
    {
     "data": {
      "text/plain": [
       "derivada_simetrica2 (generic function with 1 method)"
      ]
     },
     "execution_count": 35,
     "metadata": {},
     "output_type": "execute_result"
    }
   ],
   "source": [
    "#Ahora, como en el ejercicio 2\n",
    "function derivada_simetrica2(f,x) \n",
    "list=zeros(100)\n",
    "n=1\n",
    "           for i in 1:100\n",
    "              df=(f(x+(1/n))-f(x-(1/n)))*n/2 \n",
    "              list[i]=df; #Asignamos el valor de la derivada a un valor de la list1\n",
    "              n+=1 #Se aumenta el valor de n en cada iteración,aqui h=1/n\n",
    "           end\n",
    "return list\n",
    "end"
   ]
  },
  {
   "cell_type": "code",
   "execution_count": 36,
   "metadata": {
    "collapsed": false
   },
   "outputs": [
    {
     "data": {
      "text/plain": [
       "100-element Array{Float64,1}:\n",
       " -0.59501 \n",
       " -0.67801 \n",
       " -0.694085\n",
       " -0.699764\n",
       " -0.702402\n",
       " -0.703838\n",
       " -0.704704\n",
       " -0.705267\n",
       " -0.705653\n",
       " -0.705929\n",
       " -0.706133\n",
       " -0.706289\n",
       " -0.70641 \n",
       "  ⋮       \n",
       " -0.707092\n",
       " -0.707092\n",
       " -0.707093\n",
       " -0.707093\n",
       " -0.707093\n",
       " -0.707093\n",
       " -0.707094\n",
       " -0.707094\n",
       " -0.707094\n",
       " -0.707095\n",
       " -0.707095\n",
       " -0.707095"
      ]
     },
     "execution_count": 36,
     "metadata": {},
     "output_type": "execute_result"
    }
   ],
   "source": [
    "list2=derivada_simetrica2(f,pi/4) #Evaluamos las dos funciones en el mismo punto (tomando el punto pi/4)"
   ]
  },
  {
   "cell_type": "code",
   "execution_count": 39,
   "metadata": {
    "collapsed": false
   },
   "outputs": [
    {
     "data": {
      "text/plain": [
       "100-element Array{Float64,1}:\n",
       " -0.920065\n",
       " -0.851135\n",
       " -0.810849\n",
       " -0.787693\n",
       " -0.772877\n",
       " -0.762627\n",
       " -0.755126\n",
       " -0.749403\n",
       " -0.744896\n",
       " -0.741255\n",
       " -0.738252\n",
       " -0.735734\n",
       " -0.733593\n",
       "  ⋮       \n",
       " -0.711064\n",
       " -0.711021\n",
       " -0.710978\n",
       " -0.710936\n",
       " -0.710895\n",
       " -0.710855\n",
       " -0.710815\n",
       " -0.710777\n",
       " -0.710739\n",
       " -0.710702\n",
       " -0.710666\n",
       " -0.710631"
      ]
     },
     "execution_count": 39,
     "metadata": {},
     "output_type": "execute_result"
    }
   ],
   "source": [
    "#Y otra que hemos hecho anteriormente\n",
    "list3=derivada_numerica2(f,pi/4)"
   ]
  },
  {
   "cell_type": "code",
   "execution_count": 40,
   "metadata": {
    "collapsed": false
   },
   "outputs": [
    {
     "data": {
      "text/plain": [
       "0.7071067811865475"
      ]
     },
     "execution_count": 40,
     "metadata": {},
     "output_type": "execute_result"
    }
   ],
   "source": [
    "#Tomando el valor exacto \n",
    "sin(pi/4)"
   ]
  },
  {
   "cell_type": "code",
   "execution_count": 42,
   "metadata": {
    "collapsed": false
   },
   "outputs": [
    {
     "data": {
      "image/png": "[encoded data removed]",
      "text/plain": [
       "PyPlot.Figure(PyObject <matplotlib.figure.Figure object at 0x7f4c5e18ed90>)"
      ]
     },
     "metadata": {},
     "output_type": "display_data"
    }
   ],
   "source": [
    "#Comparando en una grafica, \n",
    "title(\"Comparación de ambos algoritmos\")\n",
    "plot(list2,label=\"derivada simetrica\"); #Graficamos ambas funciones evaluadas en el mismo punto\n",
    "plot(list3, label=\"derivada numerica\");x=range(-10,100)\n",
    "grid(\"on\");\n",
    "legend()\n",
    "show();\n"
   ]
  },
  {
   "cell_type": "markdown",
   "metadata": {},
   "source": [
    "Ejercicio 5: Demuestre que $\\Delta_h$ es un operador lineal y que podemos \"factorizar\" la función a la derecha del operador. Hecho esto podemos quitar de ambos lados la función $f$ para obtener lo siguiente: $$\\Delta_h=\\sum_{n=1}^{\\infty} \\frac{1}{n!}h^n\\left.\\frac{d^n}{d\\xi^n}\\right|_{\\substack{ \\xi=x }}$$"
   ]
  },
  {
   "cell_type": "markdown",
   "metadata": {},
   "source": [
    "Demostración. Sea el operador $\\Delta_h:\\:f(x)\\mapsto\\:f(x+h)-f(x)$. Sean $\\:f,g :\\mathbb{R} \\rightarrow \\mathbb{R},\\ $ funciones, y sean $\\alpha,\\beta $ reales del campo, es decir $\\mathbb{R}$"
   ]
  },
  {
   "cell_type": "markdown",
   "metadata": {},
   "source": [
    "Con el $\\Delta_h$ a $(\\alpha\\:f+\\beta\\:g)(x)$:\n",
    "$$\\Delta_{h}\\left[(\\alpha\\:f+\\beta\\:g)(x)\\right]=(\\alpha\\:f+\\beta\\:g)(x+h)-(\\alpha\\:f+\\beta\\:g)(x)=\\alpha\\:f(x+h)+\\beta\\:g(x+h)-\\alpha\\:f(x)-\\beta\\:g(x)$$\n",
    "$\\Rightarrow$\n",
    "$$\\Delta_{h}\\left[(\\alpha\\:f+\\beta\\:g)(x)\\right]=\\alpha\\left[\\:f(x+h)-f(x)\\right]+\\beta\\left[g(x+h)-g(x)\\right]=\\alpha\\Delta_{h}\\:f(x)+\\beta\\Delta_{h}\\:g(x)$$ Por lo tanto $$\\:\\:\\Delta_{h}\\left[(\\alpha\\:f+\\beta\\:g)(x)\\right]=\\alpha\\Delta_{h}\\:f(x)+\\beta\\Delta_{h}\\:g(x)$$"
   ]
  },
  {
   "cell_type": "markdown",
   "metadata": {},
   "source": [
    "Ahora retomando lo visto en clase:\n",
    "$$\\begin{eqnarray} \\Delta_{h}\\left[f(x)\\right]=f(x+h)-f(x)&=& \\left[h \\left. \\frac{d}{d \\xi} \\right|_{\\substack{ \\xi=x }} + \\frac{h^{2}}{2} \\left. \\frac{d^{2}}{d \\xi^{2}} \\right|_{\\substack{ \\xi_{1}=x }} + \\frac{h^{3}}{6} \\left. \\frac{d^{3}}{d \\xi^{3}} \\right|_{\\substack{ \\xi=x }} + \\mathcal{O}\\left(h^{4}\\right)\\right]f{\\left (x \\right )}\\\\ &=&\\left[ \\sum_{n=1}^{\\infty} \\frac{1}{n!}h^n\\left.\\frac{d^n}{d\\xi^n}\\right|_{\\substack{ \\xi=x }} \\right]f(x) \\end{eqnarray}$$\n",
    "Y por lo tanto $$\\:\\:\\Delta_h=\\sum_{n=1}^{\\infty} \\frac{1}{n!}h^n\\left.\\frac{d^n}{d\\xi^n}\\right|_{\\substack{\\xi=x}}$$"
   ]
  },
  {
   "cell_type": "markdown",
   "metadata": {},
   "source": [
    "\n",
    "Ejercicio 6: Para saber como se relaciona el operador derivada exacta con el operador diferencia finita hacia adelante es necesario invertir la serie $\\Delta_h=\\sum_{n=1}^{\\infty} \\frac{1}{n!}h^n\\left.\\frac{d^n}{d\\xi^n}\\right|_{\\substack{ \\xi=x }}$. Una forma directa de hacerlo es identificar la función para la cual es esa serie. Entonces, pensando en el operador derivada como un número, la serie se identifica como función evaluada en $\\left. h\\frac{d}{d_\\xi}\\right|_{\\substack{ \\xi=x }}$, ¿cual es esa función?. Si llamamos $\\phi$ a dicha función, deberiamos de tener una relación de la siguiente forma: $$\\Delta_h=\\phi\\left(h\\left.\\frac{d}{d\\xi}\\right|_{\\substack{ \\xi=x }}\\right)$$.\n",
    "Nota: En la clase se demostró que $\\phi(x)=e^x-1$, escriba el razonamiento en $\\LaTeX$ de como se llegó a esto."
   ]
  },
  {
   "cell_type": "markdown",
   "metadata": {},
   "source": [
    "Demostración.\n",
    "Para relacionar el operador derivada exacta con el operador diferencia finita hacia adelante primero identifiquemos a este último como una función $\\phi$\n",
    "$$\\Delta_{h}=\\phi\\left(h\\left.\\frac{d}{d\\xi}\\right|_{\\substack{\\xi=x}}\\right)=\\sum_{n=1}^{\\infty} \\frac{1}{n!}h^n\\left.\\frac{d^n}{d\\xi^n}\\right|_{\\substack{\\xi=x}}.$$\n",
    "Si $\\Theta$ es un operador $\\Rightarrow$ $\\Theta^{2}=\\Theta \\circ \\Theta$, entonces:\n",
    "$$\\phi\\left(h\\left.\\frac{d}{d\\xi}\\right|_{\\substack{\\xi=x}}\\right)=\\sum_{n=1}^{\\infty} \\frac{1}{n!}\\left(h\\left.\\frac{d}{d\\xi}\\right|_{\\substack{\\xi=x}}\\right)^{n}.$$\n",
    "Dado que la serie de la exponencial es:\n",
    "$$\\displaystyle e^{x}-1=\\sum_{n=1}^{\\infty}\\frac{x^{n}}{n!}$$\n",
    "$\\Rightarrow$\n",
    "$$\\Delta_{h}=\\exp\\left(h\\left.\\frac{d}{d\\xi}\\right|_{\\substack{\\xi=x}}\\right)-1,$$\n",
    "En términos del operador diferencia finita :\n",
    "$$\\left.\\frac{d}{d\\xi}\\right|_{\\substack{\\xi=x}}=\\frac{1}{h}\\log\\left(1+\\Delta_{h}\\right)$$\n",
    "Por lo que $$\\:\\:\\left.\\frac{d}{d\\xi}\\right|_{\\substack{\\xi=x}}=\\frac{1}{h}\\sum_{n=1}^{\\infty}\\frac{(-1)^{n+1}}{n}\\Delta_{h}^{\\:n}=\\frac{1}{h}\\left(\\Delta_{h}-\\frac{1}{2}\\Delta_{h}^{\\:2}+\\cdots\\right).$$"
   ]
  },
  {
   "cell_type": "code",
   "execution_count": null,
   "metadata": {
    "collapsed": true
   },
   "outputs": [],
   "source": []
  }
 ],
 "metadata": {
  "kernelspec": {
   "display_name": "Julia 0.6.0",
   "language": "julia",
   "name": "julia-0.6"
  },
  "language_info": {
   "file_extension": ".jl",
   "mimetype": "application/julia",
   "name": "julia",
   "version": "0.6.0"
  }
 },
 "nbformat": 4,
 "nbformat_minor": 2
}
