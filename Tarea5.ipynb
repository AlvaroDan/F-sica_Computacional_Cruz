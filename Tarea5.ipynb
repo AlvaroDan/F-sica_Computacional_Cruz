{
 "cells": [
  {
   "cell_type": "markdown",
   "metadata": {},
   "source": [
    "# Tarea 5. Metodos de integración"
   ]
  },
  {
   "cell_type": "markdown",
   "metadata": {},
   "source": [
    "Intrucciones. Dar una breve explicacion sobre los métodos de integración y su funcionamiento."
   ]
  },
  {
   "cell_type": "markdown",
   "metadata": {},
   "source": [
    "### Método de Riemann"
   ]
  },
  {
   "cell_type": "markdown",
   "metadata": {},
   "source": [
    "la integral de Riemann, creada por Bernhard Riemann en un artículo publicado en 1854, fue la primera definición rigurosa de la integral de una función en un intervalo, basicamente onsiste en trazar un número finito de rectángulos dentro de un área irregular (bajo la función), calcular el área de cada uno de ellos y sumarlos. "
   ]
  },
  {
   "cell_type": "markdown",
   "metadata": {},
   "source": [
    "Para entender el concepto de integral de Riemman definamos algunos conceptos: sea una funcion f definida en $f:[a,b]$ $\\subset$ $\\mathbb{R}$ $\\rightarrow$ $\\mathbb{R}$ continua y acotada,tomando un número finito de puntos $ \\{t_0, t_1, t_2, ...t_n\\} $ tales que $ a=t_0<t_1<t_2< ... <t_n = b $ de tal forma que crean una particion de l: $ P = \\{[t_0, t_1], [t_1, t_2], ...[t_{n-1}, t_n]\\} $  para generar rectángulos que se aproximen al área bajo la curva de una función $f$ considerando la longitud de los subintervalos $[t_{i-1},t_i]$ y un conjunto de puntos $\\{x_i\\}^n_{i=1}$ los cuales cumplen que $x_i\\in[t_{i-1},t_i)$."
   ]
  },
  {
   "cell_type": "markdown",
   "metadata": {},
   "source": [
    "Definimos la Suma de Riemann, para una función que cumple las hipótesis del parrafo anterior y dado una particion con misma \"longitud o anchura\" de los subintervalos $[t_{i-1},t_i]$:\n",
    "\n",
    "$S(P,f,\\{x_i\\}^n_{i=1})=\\sum^{n}_{i=1}f(x_i)(t_i-t_{i-1})$ tal que $t_{i-1}\\leq x_{i}\\leq t_{i}$\n",
    "\n",
    "Es intuitivo que para $t_{i}-t_{i-1}$ representara la base de los rectangulos y $f\\left( x_{i}\\right)$ será la altura de cada uno de ellos."
   ]
  },
  {
   "cell_type": "markdown",
   "metadata": {},
   "source": [
    "Para mejorar la aproximación dada al área bajo la gráfica de la función reduciendo el tamaño de nuestros subintervalos generados podemos dar una partición $P$ es arbitraria respecto a la distribución de puntos que la compone tenemos que la longitud de cada subintervalo $[t_{i-1},t_i]$ puede tomar valores distintos, por lo que denotamos la norma de la partición  $||P||$ y se define como la distancia máxima inducida por la partición $P$ en los subintervalos $[t_{i-1},t_i]$:\n",
    "$||P||=max\\{t_{i-1},t_i\\}_{i=1}^n$, de esta manera cuando $||P||\\rightarrow0$ se cumple $[t_{i-1},t_i]\\rightarrow0$, es decir se aproxima más a la integral."
   ]
  },
  {
   "cell_type": "markdown",
   "metadata": {},
   "source": [
    "### Método de trapecios"
   ]
  },
  {
   "cell_type": "markdown",
   "metadata": {},
   "source": [
    "En método de integración, es decir, un método para calcular aproximadamente el valor de una integral definida. La regla se basa en aproximar el valor de la integral de $f(x)$ por el de la función lineal, que pasa a través de los puntos $ (a,f(a)), (b,f(b))$. La integral de ésta es igual al área del trapecio bajo la gráfica de la función lineal, ademas considera considera el valor de una función  $f(x)$ en un intervalo y como este se aproxima por el promedio de los valores de las fronteras o extremos izquierdo y derecho. Se considera el área del trapecio como:\n",
    "$$ A=\\frac{1}{2}h(b_1+b_2) $$\n",
    "Considerando un trapecio con lados paralelos $b_1,b_2$, $P=(b-a)/n$ (una partición homogénea $p$ de $[a,b]$ tal que $||P||=Q=\\displaystyle\\frac{b-a}{n}$ donde $n$ es el número de subintervalos a inducir deseados ) y altura $h$; llegamos a la siguiente expresión:\n",
    "$$ \\frac{1}{2}Q[f(a)+2f(a+Q)+2f(a+2q)+2f(a+3Q)...+f(b)] $$"
   ]
  },
  {
   "cell_type": "markdown",
   "metadata": {},
   "source": [
    "Una manera más general de escribir la expresion de la integral es:\n",
    "$$\\int ^{b}_{a}f\\left( x\\right) dx\\approx \\dfrac {b-a}{n}\\left[ \\dfrac {f\\left( a\\right) +f\\left( b\\right) }{2}+\\sum ^{n-1}_{k=1}f\\left( a+\\dfrac {k\\left( b-a\\right) }{n}\\right) \\right]$$"
   ]
  },
  {
   "cell_type": "markdown",
   "metadata": {},
   "source": [
    "Tiene un error de\n",
    "$$ | \\int _a ^b f(x) dx - A_{trapezoides} \\quad | \\leq -\\frac{N_2(b-a)^3}{12n^2}$$\n",
    "Con $N_2$ el valor máximo permitido para el valor absoluto de $f''(\\xi)$ para alguna $\\xi$ en el intervalo."
   ]
  },
  {
   "cell_type": "markdown",
   "metadata": {},
   "source": [
    "### Regla de Simpson"
   ]
  },
  {
   "cell_type": "markdown",
   "metadata": {},
   "source": [
    "\n",
    "La Regla de Simpson, parecida al método de los trapecios, puede aproximar una integral definida en un intervalo [a,b] mediante la regla del trapecio, es decir, que sobre cada subintervalo en el que se divide [a,b] se aproxima f por un polinomio de segundo grado. \n",
    "Consideramos el polinomio interpolador de orden dos $P_{2}(x)$, que aproxima a la función integrando $f(x)$ entre los puntos $x_0 = a$, $x_1 = b$ y $m = (a+b)/2$. La expresión de ese polinomio interpolante, expresado a través de la interpolación polinómica de Lagrange es:\n",
    "\n",
    "$P_2(x)=f(a)\\displaystyle\\frac{(x-m)(x-b)}{(a-m)(a-b)}+f(m)\\displaystyle\\frac{(x-a)(x-b)}{(m-a)(m-b)}+f(b)\\displaystyle\\frac{(x-a)(x-m)}{(b-a)(b-m)}$\n",
    "\n",
    "De esta forma, considerando que el error esta definido como $E(f) = - \\frac{m^5}{90}f^{(4)}( \\epsilon )$ para un $\\epsilon$ entre el intervalo, tendremos un valor aproximado de la integral:\n",
    "$$ \\int _a ^b f(x) dx \\approx \\frac{b-a}{6}[f(a)+4f(m)+f(b)]$$\n"
   ]
  },
  {
   "cell_type": "markdown",
   "metadata": {},
   "source": [
    "Se puede calcular una estimación del error cometido al aproximar la integral mediante este método. Si las cuatro primeras derivadas de $f(x)$ son continuas en el intervalo, entonces el error (en términos absolutos) está acotado como:\n",
    "$$\\left| E\\left( f\\right) \\right| =\\left| \\int ^{b}_{a}f\\left( x\\right) dx-\\int ^{b}_{a}P_{2}\\left( x\\right) dx\\right| \\leq \\dfrac {m^{5}}{90}\\max _{a\\leq \\epsilon \\leq b}\\left| f^{4}\\left( \\epsilon\\right) \\right|$$\n"
   ]
  },
  {
   "cell_type": "code",
   "execution_count": null,
   "metadata": {
    "collapsed": true
   },
   "outputs": [],
   "source": []
  }
 ],
 "metadata": {
  "kernelspec": {
   "display_name": "Julia 0.6.0",
   "language": "julia",
   "name": "julia-0.6"
  },
  "language_info": {
   "file_extension": ".jl",
   "mimetype": "application/julia",
   "name": "julia",
   "version": "0.6.0"
  }
 },
 "nbformat": 4,
 "nbformat_minor": 2
}
